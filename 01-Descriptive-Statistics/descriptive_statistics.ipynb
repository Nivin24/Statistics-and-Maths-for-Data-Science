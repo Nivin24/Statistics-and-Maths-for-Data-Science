{
 "cells": [
  {
   "cell_type": "markdown",
   "metadata": {},
   "source": [
    "# Descriptive Statistics — Practical Implementation\n",
    "\n",
    "This notebook demonstrates key descriptive statistics concepts with real code examples. Adjust and explore with your own data for a hands-on learning experience!"
   ]
  },
  {
   "cell_type": "markdown",
   "metadata": {},
   "source": [
    "## Imports & Setup"
   ]
  },
  {
   "cell_type": "code",
   "execution_count": 1,
   "metadata": {},
   "outputs": [],
   "source": [
    "import numpy as np\n",
    "import pandas as pd\n",
    "import matplotlib.pyplot as plt\n",
    "import seaborn as sns"
   ]
  },
  {
   "cell_type": "markdown",
   "metadata": {},
   "source": [
    "## Example Dataset"
   ]
  },
  {
   "cell_type": "code",
   "execution_count": 2,
   "metadata": {},
   "outputs": [],
   "source": [
    "data = {\n",
    "    'Marks': [55, 63, 70, 65, 64, 68, 72, 66, 61, 59, 80, 90]\n",
    "}\n",
    "df = pd.DataFrame(data)\n",
    "df"
   ]
  },
  {
   "cell_type": "markdown",
   "metadata": {},
   "source": [
    "## Measures of Central Tendency"
   ]
  },
  {
   "cell_type": "code",
   "execution_count": 3,
   "metadata": {},
   "outputs": [],
   "source": [
    "mean = df['Marks'].mean()\n",
    "median = df['Marks'].median()\n",
    "mode = df['Marks'].mode()[0]\n",
    "print(f\"Mean: {mean}\")\n",
    "print(f\"Median: {median}\")\n",
    "print(f\"Mode: {mode}\")"
   ]
  },
  {
   "cell_type": "markdown",
   "metadata": {},
   "source": [
    "## Measures of Dispersion"
   ]
  },
  {
   "cell_type": "code",
   "execution_count": 4,
   "metadata": {},
   "outputs": [],
   "source": [
    "variance = df['Marks'].var()\n",
    "std = df['Marks'].std()\n",
    "iqr = df['Marks'].quantile(0.75) - df['Marks'].quantile(0.25)\n",
    "range_ = df['Marks'].max() - df['Marks'].min()\n",
    "print(f\"Variance: {variance}\")\n",
    "print(f\"Standard Deviation: {std}\")\n",
    "print(f\"Interquartile Range (IQR): {iqr}\")\n",
    "print(f\"Range: {range_}\")"
   ]
  },
  {
   "cell_type": "markdown",
   "metadata": {},
   "source": [
    "## Distribution Analysis"
   ]
  },
  {
   "cell_type": "code",
   "execution_count": 5,
   "metadata": {},
   "outputs": [],
   "source": [
    "skewness = df['Marks'].skew()\n",
    "kurtosis = df['Marks'].kurtosis()\n",
    "print(f\"Skewness: {skewness}\")\n",
    "print(f\"Kurtosis: {kurtosis}\")"
   ]
  },
  {
   "cell_type": "markdown",
   "metadata": {},
   "source": [
    "## Percentiles and Quartiles"
   ]
  },
  {
   "cell_type": "code",
   "execution_count": 6,
   "metadata": {},
   "outputs": [],
   "source": [
    "percentiles = [0.25, 0.5, 0.75, 0.9]\n",
    "for p in percentiles:\n",
    "    print(f\"{int(p*100)}th Percentile: {df['Marks'].quantile(p)}\")"
   ]
  },
  {
   "cell_type": "markdown",
   "metadata": {},
   "source": [
    "## Data Visualization"
   ]
  },
  {
   "cell_type": "code",
   "execution_count": 7,
   "metadata": {},
   "outputs": [],
   "source": [
    "plt.figure(figsize=(14,6))\n",
    "plt.subplot(1, 2, 1)\n",
    "sns.histplot(df['Marks'], bins=7, kde=True)\n",
    "plt.title('Histogram of Marks')\n",
    "plt.subplot(1, 2, 2)\n",
    "sns.boxplot(df['Marks'])\n",
    "plt.title('Boxplot of Marks')\n",
    "plt.show()"
   ]
  },
  {
   "cell_type": "markdown",
   "metadata": {},
   "source": [
    "## Covariance and Correlation (With a Second Feature)"
   ]
  },
  {
   "cell_type": "code",
   "execution_count": 8,
   "metadata": {},
   "outputs": [],
   "source": [
    "df['Hours_Studied'] = [6, 7, 8, 7, 6, 8, 9, 8, 6, 5, 10, 12]\n",
    "cov = df[['Marks', 'Hours_Studied']].cov().iloc[0,1]\n",
    "corr = df[['Marks', 'Hours_Studied']].corr().iloc[0,1]\n",
    "print(f\"Covariance (Marks vs Hours Studied): {cov}\")\n",
    "print(f\"Correlation (Marks vs Hours Studied): {corr}\")"
   ]
  },
  {
   "cell_type": "markdown",
   "metadata": {},
   "source": [
    "## Practical Data Science Example: Outlier Handling"
   ]
  },
  {
   "cell_type": "code",
   "execution_count": 9,
   "metadata": {},
   "outputs": [],
   "source": [
    "Q1 = df['Marks'].quantile(0.25)\n",
    "Q3 = df['Marks'].quantile(0.75)\n",
    "IQR = Q3 - Q1\n",
    "lower_bound = Q1 - 1.5 * IQR\n",
    "upper_bound = Q3 + 1.5 * IQR\n",
    "outliers = df[(df['Marks'] < lower_bound) | (df['Marks'] > upper_bound)]\n",
    "print(\"Outliers:\")\n",
    "print(outliers)"
   ]
  },
  {
   "cell_type": "markdown",
   "metadata": {},
   "source": [
    "### End of Notebook\n",
    "You can expand and experiment with additional examples, datasets, and features for hands-on mastery!"
   ]
  }
 ],
 "metadata": {
  "kernelspec": {
   "display_name": "Python 3",
   "language": "python",
   "name": "python3"
  },
  "language_info": {
   "name": "python",
   "codemirror_mode": {
    "name": "ipython",
    "version": 3
   },
   "file_extension": ".py",
   "mimetype": "text/x-python",
   "nbconvert_exporter": "python",
   "pygments_lexer": "ipython3",
   "version": "3.x"
  }
 },
 "nbformat": 4,
 "nbformat_minor": 2
}
